{
 "cells": [
  {
   "cell_type": "code",
   "execution_count": 1,
   "id": "7fb983e2-06ec-4f19-9e24-d8d00f09a412",
   "metadata": {},
   "outputs": [
    {
     "name": "stdout",
     "output_type": "stream",
     "text": [
      "After converting 2d Array: \n",
      "[[1 2]\n",
      " [3 4]]\n",
      "\n",
      "\n"
     ]
    }
   ],
   "source": [
    "#Question 1\n",
    "import numpy as np\n",
    "arr=np.array([1,2,3,4])\n",
    "arr1=arr.reshape(2,2)\n",
    "print('After converting 2d Array: ')\n",
    "print(arr1)\n",
    "print('\\n')"
   ]
  },
  {
   "cell_type": "code",
   "execution_count": 3,
   "id": "6a8c56a0-27ef-4760-ac57-c4091b8d8d35",
   "metadata": {},
   "outputs": [
    {
     "name": "stdout",
     "output_type": "stream",
     "text": [
      "2\n"
     ]
    }
   ],
   "source": [
    "#Question 2\n",
    "def rows(n):\n",
    "    k = 0\n",
    "    total_coins = 0\n",
    "\n",
    "    while total_coins <= n:\n",
    "        k += 1\n",
    "        total_coins += k\n",
    "\n",
    "    return k - 1\n",
    "print(rows(5))"
   ]
  },
  {
   "cell_type": "code",
   "execution_count": 4,
   "id": "bac74a06-c6d9-4d98-a9b8-13b497d15aec",
   "metadata": {},
   "outputs": [
    {
     "name": "stdout",
     "output_type": "stream",
     "text": [
      "input array\n",
      "-4 -1 0 3 10 \n",
      "\n",
      "Squared sort array\n",
      "0 1 9 16 100 "
     ]
    }
   ],
   "source": [
    "#Question 3\n",
    "arr = [-4,-1,0,3,10]\n",
    "n=len(arr)\n",
    "print(\"input array\")\n",
    "for i in range(n):\n",
    "    print(arr[i],end= \" \")\n",
    "print(\"\\n\")\n",
    "def sortSquare(arr,n):\n",
    "   for i in range (n):\n",
    "        arr[i]=arr[i]*arr[i]\n",
    "sortSquare(arr,n)\n",
    "arr.sort()\n",
    "print(\"Squared sort array\")\n",
    "for i in range(n):\n",
    "     print(arr[i],end= \" \")"
   ]
  },
  {
   "cell_type": "code",
   "execution_count": 5,
   "id": "1f349e8b-fca7-406b-809c-2cfa9c2d79cc",
   "metadata": {},
   "outputs": [
    {
     "name": "stdout",
     "output_type": "stream",
     "text": [
      "[[1, 3], [4, 6]]\n"
     ]
    }
   ],
   "source": [
    "#Question 4\n",
    "num1=[1,2,3]\n",
    "num2=[2,4,6]\n",
    "out=[[],[]]\n",
    "for i in num1:\n",
    "    if i not in num2:\n",
    "        out[0].append(i)\n",
    "for i in num2:\n",
    "    if i not in num1:\n",
    "        out[1].append(i)\n",
    "print(out)\n",
    "        "
   ]
  },
  {
   "cell_type": "code",
   "execution_count": 4,
   "id": "9987a994-9796-447d-a033-46436b129f1b",
   "metadata": {},
   "outputs": [
    {
     "name": "stdout",
     "output_type": "stream",
     "text": [
      "[2, 3]\n"
     ]
    }
   ],
   "source": [
    "#Question 5\n",
    "nums=[4,3,2,7,8,2,3,1]\n",
    "uniquelist=[]\n",
    "duplicatelist=[]\n",
    "for i in nums:\n",
    "    if i not in uniquelist:\n",
    "               uniquelist.append(i)\n",
    "    else:\n",
    "          duplicatelist.append(i)\n",
    "print(duplicatelist)"
   ]
  },
  {
   "cell_type": "code",
   "execution_count": null,
   "id": "66466f80-2b35-4d78-821f-6b10d1681d9f",
   "metadata": {},
   "outputs": [],
   "source": []
  }
 ],
 "metadata": {
  "kernelspec": {
   "display_name": "Python 3 (ipykernel)",
   "language": "python",
   "name": "python3"
  },
  "language_info": {
   "codemirror_mode": {
    "name": "ipython",
    "version": 3
   },
   "file_extension": ".py",
   "mimetype": "text/x-python",
   "name": "python",
   "nbconvert_exporter": "python",
   "pygments_lexer": "ipython3",
   "version": "3.10.6"
  }
 },
 "nbformat": 4,
 "nbformat_minor": 5
}
